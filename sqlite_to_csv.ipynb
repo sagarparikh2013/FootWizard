{
 "cells": [
  {
   "cell_type": "code",
   "execution_count": 1,
   "metadata": {},
   "outputs": [],
   "source": [
    "import sqlite3\n",
    "import pandas as pd"
   ]
  },
  {
   "cell_type": "code",
   "execution_count": 2,
   "metadata": {},
   "outputs": [],
   "source": [
    "cnx = sqlite3.connect('soccer/database.sqlite')\n",
    "df = pd.read_sql_query(\"select * from Match;\", cnx)\n",
    "df1 = pd.read_sql_query(\"select * from Country;\", cnx)\n",
    "df2 = pd.read_sql_query(\"select * from League;\", cnx)\n",
    "df3 = pd.read_sql_query(\"select * from Player;\", cnx)\n",
    "df4 = pd.read_sql_query(\"select * from Player_Attributes;\", cnx)\n",
    "df5 = pd.read_sql_query(\"select * from Team;\", cnx)\n",
    "df6 = pd.read_sql_query(\"select * from Team_Attributes;\", cnx)"
   ]
  },
  {
   "cell_type": "code",
   "execution_count": 3,
   "metadata": {},
   "outputs": [],
   "source": [
    "df.to_csv(\"Match.csv\", index=False)\n",
    "df1.to_csv(\"Country.csv\", index=False)\n",
    "df2.to_csv(\"League.csv\", index=False)\n",
    "df3.to_csv(\"Player.csv\", index=False)\n",
    "df4.to_csv(\"Player_Attributes.csv\", index=False)"
   ]
  },
  {
   "cell_type": "code",
   "execution_count": 4,
   "metadata": {},
   "outputs": [],
   "source": [
    "df5.to_csv(\"Team.csv\", index=False)\n",
    "df6.to_csv(\"Team_Attributes.csv\", index=False)"
   ]
  },
  {
   "cell_type": "code",
   "execution_count": 11,
   "metadata": {},
   "outputs": [],
   "source": [
    "epl_matches = df[df['country_id']==1729]"
   ]
  },
  {
   "cell_type": "code",
   "execution_count": 13,
   "metadata": {},
   "outputs": [],
   "source": [
    "epl_matches.to_csv('Matches_EPL.csv', index=False)"
   ]
  },
  {
   "cell_type": "code",
   "execution_count": null,
   "metadata": {},
   "outputs": [],
   "source": []
  }
 ],
 "metadata": {
  "kernelspec": {
   "display_name": "Python 3",
   "language": "python",
   "name": "python3"
  },
  "language_info": {
   "codemirror_mode": {
    "name": "ipython",
    "version": 3
   },
   "file_extension": ".py",
   "mimetype": "text/x-python",
   "name": "python",
   "nbconvert_exporter": "python",
   "pygments_lexer": "ipython3",
   "version": "3.7.1"
  }
 },
 "nbformat": 4,
 "nbformat_minor": 2
}
