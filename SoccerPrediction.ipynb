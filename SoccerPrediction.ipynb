{
 "cells": [
  {
   "cell_type": "code",
   "execution_count": 1,
   "metadata": {},
   "outputs": [],
   "source": [
    "import pandas as pd\n",
    "import numpy as np"
   ]
  },
  {
   "cell_type": "code",
   "execution_count": 2,
   "metadata": {},
   "outputs": [],
   "source": [
    "\n",
    "player_attributes = pd.read_csv('Player_Attributes.csv')\n",
    "matches_epl = pd.read_csv('Matches_EPL.csv')"
   ]
  },
  {
   "cell_type": "code",
   "execution_count": 3,
   "metadata": {},
   "outputs": [],
   "source": [
    "\n",
    "players_df = pd.read_csv('data/player_attributes_transformed.csv',dtype={\"player_api_id\":int,\"year\":int,\"player_fifa_api_id\":int,\"overall_rating\":float})"
   ]
  },
  {
   "cell_type": "code",
   "execution_count": 4,
   "metadata": {},
   "outputs": [
    {
     "data": {
      "text/plain": [
       "numpy.int32"
      ]
     },
     "execution_count": 4,
     "metadata": {},
     "output_type": "execute_result"
    }
   ],
   "source": [
    "type(players_df['player_api_id'][0])"
   ]
  },
  {
   "cell_type": "code",
   "execution_count": 5,
   "metadata": {},
   "outputs": [],
   "source": [
    "#play_merge = matches_epl.merge(player_attributes, left_on = 'home_player_1',right_on='player_api_id')"
   ]
  },
  {
   "cell_type": "code",
   "execution_count": null,
   "metadata": {},
   "outputs": [],
   "source": []
  },
  {
   "cell_type": "code",
   "execution_count": 6,
   "metadata": {},
   "outputs": [],
   "source": [
    "#Function to populate result column for each match row\n",
    "def get_results(home_goal,away_goal):\n",
    "    \n",
    "    #Win or Defeat on the basis of home team\n",
    "    if home_goal > away_goal:\n",
    "        return \"Win\"\n",
    "    elif home_goal == away_goal:\n",
    "        return \"Draw\"\n",
    "    else:\n",
    "        return \"Defeat\"\n",
    "        "
   ]
  },
  {
   "cell_type": "code",
   "execution_count": 7,
   "metadata": {},
   "outputs": [],
   "source": [
    "#Creating a column result from the final scoreline\n",
    "matches_epl['result'] = matches_epl.apply(lambda x: get_results(x['home_team_goal'],x['away_team_goal']),axis=1)"
   ]
  },
  {
   "cell_type": "code",
   "execution_count": 8,
   "metadata": {},
   "outputs": [],
   "source": [
    "home_players_list = ['home_player_1','home_player_2','home_player_3','home_player_4','home_player_5','home_player_6','home_player_7','home_player_8','home_player_9','home_player_10','home_player_11']\n",
    "away_players_list = ['away_player_1','away_player_2','away_player_3','away_player_4','away_player_5','away_player_6','away_player_7','away_player_8','away_player_9','away_player_10','away_player_11']"
   ]
  },
  {
   "cell_type": "code",
   "execution_count": 9,
   "metadata": {},
   "outputs": [],
   "source": [
    "#Changing Dtype of ids in the dataframe and handling NaNs\n",
    "matches_epl[home_players_list] = matches_epl[home_players_list].fillna(-1)\n",
    "matches_epl[home_players_list] = matches_epl[home_players_list].astype(int)\n",
    "\n",
    "matches_epl[away_players_list] = matches_epl[away_players_list].fillna(-1)\n",
    "matches_epl[away_players_list] = matches_epl[away_players_list].astype(int)"
   ]
  },
  {
   "cell_type": "code",
   "execution_count": null,
   "metadata": {},
   "outputs": [],
   "source": []
  },
  {
   "cell_type": "code",
   "execution_count": 10,
   "metadata": {},
   "outputs": [],
   "source": [
    "#Changing date format in dataframe from string to datetime\n",
    "matches_epl['date'] = pd.to_datetime(matches_epl['date'], format=\"%Y-%m-%d\")"
   ]
  },
  {
   "cell_type": "code",
   "execution_count": 11,
   "metadata": {},
   "outputs": [],
   "source": [
    "#retrieving only important columns for the model\n",
    "matches_columns = ['id','season','date','match_api_id','home_team_api_id','away_team_api_id',\\\n",
    "                   'home_team_goal','away_team_goal',\\\n",
    "                   'home_player_1','home_player_2','home_player_3','home_player_4','home_player_5','home_player_6',\\\n",
    "                   'home_player_7','home_player_8','home_player_9','home_player_10','home_player_11',\\\n",
    "                   'away_player_1','away_player_2','away_player_3','away_player_4','away_player_5','away_player_6',\\\n",
    "                   'away_player_7','away_player_8','away_player_9','away_player_10','away_player_11']"
   ]
  },
  {
   "cell_type": "code",
   "execution_count": 12,
   "metadata": {},
   "outputs": [],
   "source": [
    "# for player in home_players_list:\n",
    "#     print(player, \"no. of nulls\", matches_epl[player].isnull().sum())\n",
    "# print('---------------')\n",
    "# for player in away_players_list:\n",
    "    \n",
    "#     print(player, \"no. of nulls\", matches_epl[player].isnull().sum())\n"
   ]
  },
  {
   "cell_type": "code",
   "execution_count": 13,
   "metadata": {},
   "outputs": [],
   "source": [
    "#Getting team squad api ids from multiple columns into one list\n",
    "matches_epl['home_players_ids']= matches_epl[home_players_list].values.tolist()\n",
    "matches_epl['away_players_ids']= matches_epl[away_players_list].values.tolist()"
   ]
  },
  {
   "cell_type": "code",
   "execution_count": 14,
   "metadata": {},
   "outputs": [
    {
     "name": "stdout",
     "output_type": "stream",
     "text": [
      "[30726, 30362, 30620, 30865, 32569, 24148, 34944, 30373, 24154, 24157, 30829]\n"
     ]
    }
   ],
   "source": [
    "print(matches_epl['home_players_ids'][0])"
   ]
  },
  {
   "cell_type": "code",
   "execution_count": 15,
   "metadata": {},
   "outputs": [],
   "source": [
    "matches_epl['season'] = matches_epl['season'].apply(lambda x: x.split('/')[0])"
   ]
  },
  {
   "cell_type": "code",
   "execution_count": 16,
   "metadata": {},
   "outputs": [],
   "source": [
    "\n",
    "# matches_apply['home_rating_list'] = matches_epl.apply(lambda df: api_id for api_id in df['home_players_ids']) \n",
    "# #if ((player_attributes_transformed['player_api_id'] == api_id) & (player_attributes_transformed['year']== df['season'])), axis=1)\n",
    "# #         player_attributes_transformed[(player_attributes_transformed['player_api_id']==api_id)]['overall_rating']"
   ]
  },
  {
   "cell_type": "code",
   "execution_count": 17,
   "metadata": {},
   "outputs": [],
   "source": [
    "temp_df = matches_epl.head(10)\n"
   ]
  },
  {
   "cell_type": "code",
   "execution_count": 18,
   "metadata": {},
   "outputs": [
    {
     "data": {
      "text/plain": [
       "home_player_1     int32\n",
       "home_player_2     int32\n",
       "home_player_3     int32\n",
       "home_player_4     int32\n",
       "home_player_5     int32\n",
       "home_player_6     int32\n",
       "home_player_7     int32\n",
       "home_player_8     int32\n",
       "home_player_9     int32\n",
       "home_player_10    int32\n",
       "home_player_11    int32\n",
       "dtype: object"
      ]
     },
     "execution_count": 18,
     "metadata": {},
     "output_type": "execute_result"
    }
   ],
   "source": [
    "temp_df[home_players_list].dtypes"
   ]
  },
  {
   "cell_type": "code",
   "execution_count": 19,
   "metadata": {},
   "outputs": [],
   "source": [
    "# player_attributes_transformed = player_attributes_transformed.set_index('player_api_id')"
   ]
  },
  {
   "cell_type": "code",
   "execution_count": 164,
   "metadata": {},
   "outputs": [],
   "source": [
    "def get_rating_from_id(row):\n",
    "    ratings_list = []\n",
    "    print(row['home_players_ids'])\n",
    "    for api_id in row['home_players_ids']:\n",
    "        print(api_id)\n",
    "#         print(type(api_id))\n",
    "        print(type(players_df['player_api_id']))\n",
    "        player_rating = players_df[(players_df['player_api_id'] == api_id) & (players_df['year']== row['season'])]['overall_rating'].values[0]\n",
    "        print(\"id is\",api_id,\" season is \",row['season'],\" rating is\", player_rating)\n",
    "        #         player_attributes_transformed[(player_attributes_transformed['player_api_id']==api_id)]['overall_rating']\n",
    "        ratings_list.append(player_rating)\n",
    "    \n",
    "    return ratings_list\n",
    "    "
   ]
  },
  {
   "cell_type": "code",
   "execution_count": 46,
   "metadata": {},
   "outputs": [],
   "source": [
    "def get_ratings(row):\n",
    "    print(\"Player is \",row)\n",
    "    print('season is ',row)\n",
    "    "
   ]
  },
  {
   "cell_type": "code",
   "execution_count": 47,
   "metadata": {},
   "outputs": [
    {
     "name": "stdout",
     "output_type": "stream",
     "text": [
      "Player is  24224\n",
      "season is  0    24224\n",
      "1    36373\n",
      "2    30660\n",
      "3    34421\n",
      "4    31432\n",
      "5    30622\n",
      "6    30455\n",
      "7    23794\n",
      "8    30633\n",
      "9    36286\n",
      "Name: away_player_1, dtype: object\n",
      "Player is  2008\n",
      "season is  0    2008\n",
      "1    2008\n",
      "2    2008\n",
      "3    2008\n",
      "4    2008\n",
      "5    2008\n",
      "6    2008\n",
      "7    2008\n",
      "8    2008\n",
      "9    2008\n",
      "Name: season, dtype: object\n",
      "Player is  25518\n",
      "season is  0    25518\n",
      "1    36832\n",
      "2    37442\n",
      "3    34987\n",
      "4    46403\n",
      "5    37764\n",
      "6    34182\n",
      "7    23369\n",
      "8    37266\n",
      "9    34036\n",
      "Name: away_player_2, dtype: object\n",
      "Player is  2008\n",
      "season is  0    2008\n",
      "1    2008\n",
      "2    2008\n",
      "3    2008\n",
      "4    2008\n",
      "5    2008\n",
      "6    2008\n",
      "7    2008\n",
      "8    2008\n",
      "9    2008\n",
      "Name: season, dtype: object\n",
      "Player is  24228\n",
      "season is  0    24228\n",
      "1    23115\n",
      "2    30617\n",
      "3    35472\n",
      "4    24208\n",
      "5    19020\n",
      "6    38697\n",
      "7    34214\n",
      "8    26777\n",
      "9    34418\n",
      "Name: away_player_3, dtype: object\n",
      "Player is  2008\n",
      "season is  0    2008\n",
      "1    2008\n",
      "2    2008\n",
      "3    2008\n",
      "4    2008\n",
      "5    2008\n",
      "6    2008\n",
      "7    2008\n",
      "8    2008\n",
      "9    2008\n",
      "Name: season, dtype: object\n",
      "Player is  30929\n",
      "season is  0     30929\n",
      "1     37280\n",
      "2     24134\n",
      "3    111865\n",
      "4     23939\n",
      "5     23921\n",
      "6     24531\n",
      "7     40695\n",
      "8     23780\n",
      "9     24216\n",
      "Name: away_player_4, dtype: object\n",
      "Player is  2008\n",
      "season is  0    2008\n",
      "1    2008\n",
      "2    2008\n",
      "3    2008\n",
      "4    2008\n",
      "5    2008\n",
      "6    2008\n",
      "7    2008\n",
      "8    2008\n",
      "9    2008\n",
      "Name: season, dtype: object\n",
      "Player is  29581\n",
      "season is  0     29581\n",
      "1     24728\n",
      "2    414792\n",
      "3     25005\n",
      "4     33963\n",
      "5     24136\n",
      "6     40006\n",
      "7     40574\n",
      "8     24781\n",
      "9     23953\n",
      "Name: away_player_5, dtype: object\n",
      "Player is  2008\n",
      "season is  0    2008\n",
      "1    2008\n",
      "2    2008\n",
      "3    2008\n",
      "4    2008\n",
      "5    2008\n",
      "6    2008\n",
      "7    2008\n",
      "8    2008\n",
      "9    2008\n",
      "Name: season, dtype: object\n",
      "Player is  38807\n",
      "season is  0    38807\n",
      "1    24664\n",
      "2    37139\n",
      "3    35327\n",
      "4    47413\n",
      "5    30342\n",
      "6    30895\n",
      "7    25668\n",
      "8    24020\n",
      "9    25517\n",
      "Name: away_player_6, dtype: object\n",
      "Player is  2008\n",
      "season is  0    2008\n",
      "1    2008\n",
      "2    2008\n",
      "3    2008\n",
      "4    2008\n",
      "5    2008\n",
      "6    2008\n",
      "7    2008\n",
      "8    2008\n",
      "9    2008\n",
      "Name: season, dtype: object\n",
      "Player is  40565\n",
      "season is  0    40565\n",
      "1    31088\n",
      "2    30618\n",
      "3    25150\n",
      "4    40198\n",
      "5    23889\n",
      "6    30818\n",
      "7    23333\n",
      "8    30338\n",
      "9    23988\n",
      "Name: away_player_7, dtype: object\n",
      "Player is  2008\n",
      "season is  0    2008\n",
      "1    2008\n",
      "2    2008\n",
      "3    2008\n",
      "4    2008\n",
      "5    2008\n",
      "6    2008\n",
      "7    2008\n",
      "8    2008\n",
      "9    2008\n",
      "Name: season, dtype: object\n",
      "Player is  30360\n",
      "season is  0    30360\n",
      "1    23257\n",
      "2    40701\n",
      "3    97988\n",
      "4    42119\n",
      "5    23916\n",
      "6    31097\n",
      "7    23253\n",
      "8    24843\n",
      "9    26108\n",
      "Name: away_player_8, dtype: object\n",
      "Player is  2008\n",
      "season is  0    2008\n",
      "1    2008\n",
      "2    2008\n",
      "3    2008\n",
      "4    2008\n",
      "5    2008\n",
      "6    2008\n",
      "7    2008\n",
      "8    2008\n",
      "9    2008\n",
      "Name: season, dtype: object\n",
      "Player is  33852\n",
      "season is  0    33852\n",
      "1    24171\n",
      "2    24800\n",
      "3    41877\n",
      "4       -1\n",
      "5    23922\n",
      "6    23760\n",
      "7    23072\n",
      "8    24737\n",
      "9    38820\n",
      "Name: away_player_9, dtype: object\n",
      "Player is  2008\n",
      "season is  0    2008\n",
      "1    2008\n",
      "2    2008\n",
      "3    2008\n",
      "4    2008\n",
      "5    2008\n",
      "6    2008\n",
      "7    2008\n",
      "8    2008\n",
      "9    2008\n",
      "Name: season, dtype: object\n",
      "Player is  34574\n",
      "season is  0     34574\n",
      "1     25922\n",
      "2     24635\n",
      "3    127857\n",
      "4     33633\n",
      "5     34176\n",
      "6     41157\n",
      "7     23288\n",
      "8     34248\n",
      "9     30348\n",
      "Name: away_player_10, dtype: object\n",
      "Player is  2008\n",
      "season is  0    2008\n",
      "1    2008\n",
      "2    2008\n",
      "3    2008\n",
      "4    2008\n",
      "5    2008\n",
      "6    2008\n",
      "7    2008\n",
      "8    2008\n",
      "9    2008\n",
      "Name: season, dtype: object\n",
      "Player is  37799\n",
      "season is  0     37799\n",
      "1     27267\n",
      "2     30853\n",
      "3     34466\n",
      "4    107216\n",
      "5     30646\n",
      "6     23949\n",
      "7     23314\n",
      "8     24741\n",
      "9     30830\n",
      "Name: away_player_11, dtype: object\n",
      "Player is  2008\n",
      "season is  0    2008\n",
      "1    2008\n",
      "2    2008\n",
      "3    2008\n",
      "4    2008\n",
      "5    2008\n",
      "6    2008\n",
      "7    2008\n",
      "8    2008\n",
      "9    2008\n",
      "Name: season, dtype: object\n"
     ]
    }
   ],
   "source": [
    "for player in away_players_list:\n",
    "    temp_df[[player,'season']].apply(get_ratings)\n",
    "#.applymap(get_player_ratings)\n",
    "#.apply(get_rating_from_id,axis=1)"
   ]
  },
  {
   "cell_type": "code",
   "execution_count": 170,
   "metadata": {},
   "outputs": [
    {
     "ename": "SyntaxError",
     "evalue": "invalid syntax (<ipython-input-170-40e7f8780978>, line 12)",
     "output_type": "error",
     "traceback": [
      "\u001b[1;36m  File \u001b[1;32m\"<ipython-input-170-40e7f8780978>\"\u001b[1;36m, line \u001b[1;32m12\u001b[0m\n\u001b[1;33m    player_rating = players_df[(players_df['player_api_id'] = api_id) & (players_df['year']= row['season'])]['overall_rating']\u001b[0m\n\u001b[1;37m                                                            ^\u001b[0m\n\u001b[1;31mSyntaxError\u001b[0m\u001b[1;31m:\u001b[0m invalid syntax\n"
     ]
    }
   ],
   "source": [
    "# api_id = 30726\n",
    "# season = 2008\n",
    "# x = players_df[(players_df['player_api_id'] == api_id) & (players_df['year']== season)]['overall_rating'].values[0]\n",
    "\n",
    "def fn(row):\n",
    "    ratings_list = []\n",
    "    print(row['home_players_ids'])\n",
    "    for api_id in row['home_players_ids']:\n",
    "        print(api_id)\n",
    "#         print(type(api_id))\n",
    "        print(type(players_df['player_api_id']))\n",
    "        player_rating = players_df[(players_df['player_api_id'] == api_id) & (players_df['year']== row['season'])]['overall_rating']\n",
    "        print(player_rating.values[0])\n",
    "#         print(\"id is\",api_id,\" season is \",row['season'],\" rating is\", player_rating)\n",
    "        #         player_attributes_transformed[(player_attributes_transformed['player_api_id']==api_id)]['overall_rating']\n",
    "#         ratings_list.append(player_rating)\n",
    "\n",
    "    return ratings_list"
   ]
  },
  {
   "cell_type": "code",
   "execution_count": 171,
   "metadata": {},
   "outputs": [
    {
     "name": "stdout",
     "output_type": "stream",
     "text": [
      "[30726, 30362, 30620, 30865, 32569, 24148, 34944, 30373, 24154, 24157, 30829]\n",
      "30726\n",
      "<class 'pandas.core.series.Series'>\n",
      "[30726, 30362, 30620, 30865, 32569, 24148, 34944, 30373, 24154, 24157, 30829]\n",
      "30726\n",
      "<class 'pandas.core.series.Series'>\n"
     ]
    },
    {
     "ename": "TypeError",
     "evalue": "('invalid type comparison', 'occurred at index 0')",
     "output_type": "error",
     "traceback": [
      "\u001b[1;31m---------------------------------------------------------------------------\u001b[0m",
      "\u001b[1;31mTypeError\u001b[0m                                 Traceback (most recent call last)",
      "\u001b[1;32m<ipython-input-171-9f8002a2fa4e>\u001b[0m in \u001b[0;36m<module>\u001b[1;34m\u001b[0m\n\u001b[1;32m----> 1\u001b[1;33m \u001b[0mtemp_df\u001b[0m\u001b[1;33m.\u001b[0m\u001b[0mapply\u001b[0m\u001b[1;33m(\u001b[0m\u001b[0mfn\u001b[0m\u001b[1;33m,\u001b[0m\u001b[0maxis\u001b[0m\u001b[1;33m=\u001b[0m\u001b[1;36m1\u001b[0m\u001b[1;33m)\u001b[0m\u001b[1;33m\u001b[0m\u001b[1;33m\u001b[0m\u001b[0m\n\u001b[0m",
      "\u001b[1;32mC:\\ProgramData\\Anaconda3\\lib\\site-packages\\pandas\\core\\frame.py\u001b[0m in \u001b[0;36mapply\u001b[1;34m(self, func, axis, broadcast, raw, reduce, result_type, args, **kwds)\u001b[0m\n\u001b[0;32m   6012\u001b[0m                          \u001b[0margs\u001b[0m\u001b[1;33m=\u001b[0m\u001b[0margs\u001b[0m\u001b[1;33m,\u001b[0m\u001b[1;33m\u001b[0m\u001b[1;33m\u001b[0m\u001b[0m\n\u001b[0;32m   6013\u001b[0m                          kwds=kwds)\n\u001b[1;32m-> 6014\u001b[1;33m         \u001b[1;32mreturn\u001b[0m \u001b[0mop\u001b[0m\u001b[1;33m.\u001b[0m\u001b[0mget_result\u001b[0m\u001b[1;33m(\u001b[0m\u001b[1;33m)\u001b[0m\u001b[1;33m\u001b[0m\u001b[1;33m\u001b[0m\u001b[0m\n\u001b[0m\u001b[0;32m   6015\u001b[0m \u001b[1;33m\u001b[0m\u001b[0m\n\u001b[0;32m   6016\u001b[0m     \u001b[1;32mdef\u001b[0m \u001b[0mapplymap\u001b[0m\u001b[1;33m(\u001b[0m\u001b[0mself\u001b[0m\u001b[1;33m,\u001b[0m \u001b[0mfunc\u001b[0m\u001b[1;33m)\u001b[0m\u001b[1;33m:\u001b[0m\u001b[1;33m\u001b[0m\u001b[1;33m\u001b[0m\u001b[0m\n",
      "\u001b[1;32mC:\\ProgramData\\Anaconda3\\lib\\site-packages\\pandas\\core\\apply.py\u001b[0m in \u001b[0;36mget_result\u001b[1;34m(self)\u001b[0m\n\u001b[0;32m    140\u001b[0m             \u001b[1;32mreturn\u001b[0m \u001b[0mself\u001b[0m\u001b[1;33m.\u001b[0m\u001b[0mapply_raw\u001b[0m\u001b[1;33m(\u001b[0m\u001b[1;33m)\u001b[0m\u001b[1;33m\u001b[0m\u001b[1;33m\u001b[0m\u001b[0m\n\u001b[0;32m    141\u001b[0m \u001b[1;33m\u001b[0m\u001b[0m\n\u001b[1;32m--> 142\u001b[1;33m         \u001b[1;32mreturn\u001b[0m \u001b[0mself\u001b[0m\u001b[1;33m.\u001b[0m\u001b[0mapply_standard\u001b[0m\u001b[1;33m(\u001b[0m\u001b[1;33m)\u001b[0m\u001b[1;33m\u001b[0m\u001b[1;33m\u001b[0m\u001b[0m\n\u001b[0m\u001b[0;32m    143\u001b[0m \u001b[1;33m\u001b[0m\u001b[0m\n\u001b[0;32m    144\u001b[0m     \u001b[1;32mdef\u001b[0m \u001b[0mapply_empty_result\u001b[0m\u001b[1;33m(\u001b[0m\u001b[0mself\u001b[0m\u001b[1;33m)\u001b[0m\u001b[1;33m:\u001b[0m\u001b[1;33m\u001b[0m\u001b[1;33m\u001b[0m\u001b[0m\n",
      "\u001b[1;32mC:\\ProgramData\\Anaconda3\\lib\\site-packages\\pandas\\core\\apply.py\u001b[0m in \u001b[0;36mapply_standard\u001b[1;34m(self)\u001b[0m\n\u001b[0;32m    246\u001b[0m \u001b[1;33m\u001b[0m\u001b[0m\n\u001b[0;32m    247\u001b[0m         \u001b[1;31m# compute the result using the series generator\u001b[0m\u001b[1;33m\u001b[0m\u001b[1;33m\u001b[0m\u001b[1;33m\u001b[0m\u001b[0m\n\u001b[1;32m--> 248\u001b[1;33m         \u001b[0mself\u001b[0m\u001b[1;33m.\u001b[0m\u001b[0mapply_series_generator\u001b[0m\u001b[1;33m(\u001b[0m\u001b[1;33m)\u001b[0m\u001b[1;33m\u001b[0m\u001b[1;33m\u001b[0m\u001b[0m\n\u001b[0m\u001b[0;32m    249\u001b[0m \u001b[1;33m\u001b[0m\u001b[0m\n\u001b[0;32m    250\u001b[0m         \u001b[1;31m# wrap results\u001b[0m\u001b[1;33m\u001b[0m\u001b[1;33m\u001b[0m\u001b[1;33m\u001b[0m\u001b[0m\n",
      "\u001b[1;32mC:\\ProgramData\\Anaconda3\\lib\\site-packages\\pandas\\core\\apply.py\u001b[0m in \u001b[0;36mapply_series_generator\u001b[1;34m(self)\u001b[0m\n\u001b[0;32m    275\u001b[0m             \u001b[1;32mtry\u001b[0m\u001b[1;33m:\u001b[0m\u001b[1;33m\u001b[0m\u001b[1;33m\u001b[0m\u001b[0m\n\u001b[0;32m    276\u001b[0m                 \u001b[1;32mfor\u001b[0m \u001b[0mi\u001b[0m\u001b[1;33m,\u001b[0m \u001b[0mv\u001b[0m \u001b[1;32min\u001b[0m \u001b[0menumerate\u001b[0m\u001b[1;33m(\u001b[0m\u001b[0mseries_gen\u001b[0m\u001b[1;33m)\u001b[0m\u001b[1;33m:\u001b[0m\u001b[1;33m\u001b[0m\u001b[1;33m\u001b[0m\u001b[0m\n\u001b[1;32m--> 277\u001b[1;33m                     \u001b[0mresults\u001b[0m\u001b[1;33m[\u001b[0m\u001b[0mi\u001b[0m\u001b[1;33m]\u001b[0m \u001b[1;33m=\u001b[0m \u001b[0mself\u001b[0m\u001b[1;33m.\u001b[0m\u001b[0mf\u001b[0m\u001b[1;33m(\u001b[0m\u001b[0mv\u001b[0m\u001b[1;33m)\u001b[0m\u001b[1;33m\u001b[0m\u001b[1;33m\u001b[0m\u001b[0m\n\u001b[0m\u001b[0;32m    278\u001b[0m                     \u001b[0mkeys\u001b[0m\u001b[1;33m.\u001b[0m\u001b[0mappend\u001b[0m\u001b[1;33m(\u001b[0m\u001b[0mv\u001b[0m\u001b[1;33m.\u001b[0m\u001b[0mname\u001b[0m\u001b[1;33m)\u001b[0m\u001b[1;33m\u001b[0m\u001b[1;33m\u001b[0m\u001b[0m\n\u001b[0;32m    279\u001b[0m             \u001b[1;32mexcept\u001b[0m \u001b[0mException\u001b[0m \u001b[1;32mas\u001b[0m \u001b[0me\u001b[0m\u001b[1;33m:\u001b[0m\u001b[1;33m\u001b[0m\u001b[1;33m\u001b[0m\u001b[0m\n",
      "\u001b[1;32m<ipython-input-168-41972fce4d96>\u001b[0m in \u001b[0;36mfn\u001b[1;34m(row)\u001b[0m\n\u001b[0;32m     10\u001b[0m \u001b[1;31m#         print(type(api_id))\u001b[0m\u001b[1;33m\u001b[0m\u001b[1;33m\u001b[0m\u001b[1;33m\u001b[0m\u001b[0m\n\u001b[0;32m     11\u001b[0m         \u001b[0mprint\u001b[0m\u001b[1;33m(\u001b[0m\u001b[0mtype\u001b[0m\u001b[1;33m(\u001b[0m\u001b[0mplayers_df\u001b[0m\u001b[1;33m[\u001b[0m\u001b[1;34m'player_api_id'\u001b[0m\u001b[1;33m]\u001b[0m\u001b[1;33m)\u001b[0m\u001b[1;33m)\u001b[0m\u001b[1;33m\u001b[0m\u001b[1;33m\u001b[0m\u001b[0m\n\u001b[1;32m---> 12\u001b[1;33m         \u001b[0mplayer_rating\u001b[0m \u001b[1;33m=\u001b[0m \u001b[0mplayers_df\u001b[0m\u001b[1;33m[\u001b[0m\u001b[1;33m(\u001b[0m\u001b[0mplayers_df\u001b[0m\u001b[1;33m[\u001b[0m\u001b[1;34m'player_api_id'\u001b[0m\u001b[1;33m]\u001b[0m \u001b[1;33m==\u001b[0m \u001b[0mapi_id\u001b[0m\u001b[1;33m)\u001b[0m \u001b[1;33m&\u001b[0m \u001b[1;33m(\u001b[0m\u001b[0mplayers_df\u001b[0m\u001b[1;33m[\u001b[0m\u001b[1;34m'year'\u001b[0m\u001b[1;33m]\u001b[0m\u001b[1;33m==\u001b[0m \u001b[0mrow\u001b[0m\u001b[1;33m[\u001b[0m\u001b[1;34m'season'\u001b[0m\u001b[1;33m]\u001b[0m\u001b[1;33m)\u001b[0m\u001b[1;33m]\u001b[0m\u001b[1;33m[\u001b[0m\u001b[1;34m'overall_rating'\u001b[0m\u001b[1;33m]\u001b[0m\u001b[1;33m\u001b[0m\u001b[1;33m\u001b[0m\u001b[0m\n\u001b[0m\u001b[0;32m     13\u001b[0m         \u001b[0mprint\u001b[0m\u001b[1;33m(\u001b[0m\u001b[0mplayer_rating\u001b[0m\u001b[1;33m.\u001b[0m\u001b[0mvalues\u001b[0m\u001b[1;33m[\u001b[0m\u001b[1;36m0\u001b[0m\u001b[1;33m]\u001b[0m\u001b[1;33m)\u001b[0m\u001b[1;33m\u001b[0m\u001b[1;33m\u001b[0m\u001b[0m\n\u001b[0;32m     14\u001b[0m \u001b[1;31m#         print(\"id is\",api_id,\" season is \",row['season'],\" rating is\", player_rating)\u001b[0m\u001b[1;33m\u001b[0m\u001b[1;33m\u001b[0m\u001b[1;33m\u001b[0m\u001b[0m\n",
      "\u001b[1;32mC:\\ProgramData\\Anaconda3\\lib\\site-packages\\pandas\\core\\ops.py\u001b[0m in \u001b[0;36mwrapper\u001b[1;34m(self, other, axis)\u001b[0m\n\u001b[0;32m   1281\u001b[0m \u001b[1;33m\u001b[0m\u001b[0m\n\u001b[0;32m   1282\u001b[0m             \u001b[1;32mwith\u001b[0m \u001b[0mnp\u001b[0m\u001b[1;33m.\u001b[0m\u001b[0merrstate\u001b[0m\u001b[1;33m(\u001b[0m\u001b[0mall\u001b[0m\u001b[1;33m=\u001b[0m\u001b[1;34m'ignore'\u001b[0m\u001b[1;33m)\u001b[0m\u001b[1;33m:\u001b[0m\u001b[1;33m\u001b[0m\u001b[1;33m\u001b[0m\u001b[0m\n\u001b[1;32m-> 1283\u001b[1;33m                 \u001b[0mres\u001b[0m \u001b[1;33m=\u001b[0m \u001b[0mna_op\u001b[0m\u001b[1;33m(\u001b[0m\u001b[0mvalues\u001b[0m\u001b[1;33m,\u001b[0m \u001b[0mother\u001b[0m\u001b[1;33m)\u001b[0m\u001b[1;33m\u001b[0m\u001b[1;33m\u001b[0m\u001b[0m\n\u001b[0m\u001b[0;32m   1284\u001b[0m             \u001b[1;32mif\u001b[0m \u001b[0mis_scalar\u001b[0m\u001b[1;33m(\u001b[0m\u001b[0mres\u001b[0m\u001b[1;33m)\u001b[0m\u001b[1;33m:\u001b[0m\u001b[1;33m\u001b[0m\u001b[1;33m\u001b[0m\u001b[0m\n\u001b[0;32m   1285\u001b[0m                 raise TypeError('Could not compare {typ} type with Series'\n",
      "\u001b[1;32mC:\\ProgramData\\Anaconda3\\lib\\site-packages\\pandas\\core\\ops.py\u001b[0m in \u001b[0;36mna_op\u001b[1;34m(x, y)\u001b[0m\n\u001b[0;32m   1167\u001b[0m                     \u001b[0mresult\u001b[0m \u001b[1;33m=\u001b[0m \u001b[0mmethod\u001b[0m\u001b[1;33m(\u001b[0m\u001b[0my\u001b[0m\u001b[1;33m)\u001b[0m\u001b[1;33m\u001b[0m\u001b[1;33m\u001b[0m\u001b[0m\n\u001b[0;32m   1168\u001b[0m                 \u001b[1;32mif\u001b[0m \u001b[0mresult\u001b[0m \u001b[1;32mis\u001b[0m \u001b[0mNotImplemented\u001b[0m\u001b[1;33m:\u001b[0m\u001b[1;33m\u001b[0m\u001b[1;33m\u001b[0m\u001b[0m\n\u001b[1;32m-> 1169\u001b[1;33m                     \u001b[1;32mraise\u001b[0m \u001b[0mTypeError\u001b[0m\u001b[1;33m(\u001b[0m\u001b[1;34m\"invalid type comparison\"\u001b[0m\u001b[1;33m)\u001b[0m\u001b[1;33m\u001b[0m\u001b[1;33m\u001b[0m\u001b[0m\n\u001b[0m\u001b[0;32m   1170\u001b[0m             \u001b[1;32melse\u001b[0m\u001b[1;33m:\u001b[0m\u001b[1;33m\u001b[0m\u001b[1;33m\u001b[0m\u001b[0m\n\u001b[0;32m   1171\u001b[0m                 \u001b[0mresult\u001b[0m \u001b[1;33m=\u001b[0m \u001b[0mop\u001b[0m\u001b[1;33m(\u001b[0m\u001b[0mx\u001b[0m\u001b[1;33m,\u001b[0m \u001b[0my\u001b[0m\u001b[1;33m)\u001b[0m\u001b[1;33m\u001b[0m\u001b[1;33m\u001b[0m\u001b[0m\n",
      "\u001b[1;31mTypeError\u001b[0m: ('invalid type comparison', 'occurred at index 0')"
     ]
    }
   ],
   "source": [
    "temp_df.apply(fn,axis=1)"
   ]
  },
  {
   "cell_type": "code",
   "execution_count": 130,
   "metadata": {},
   "outputs": [
    {
     "data": {
      "text/html": [
       "<div>\n",
       "<style scoped>\n",
       "    .dataframe tbody tr th:only-of-type {\n",
       "        vertical-align: middle;\n",
       "    }\n",
       "\n",
       "    .dataframe tbody tr th {\n",
       "        vertical-align: top;\n",
       "    }\n",
       "\n",
       "    .dataframe thead th {\n",
       "        text-align: right;\n",
       "    }\n",
       "</style>\n",
       "<table border=\"1\" class=\"dataframe\">\n",
       "  <thead>\n",
       "    <tr style=\"text-align: right;\">\n",
       "      <th></th>\n",
       "      <th>id</th>\n",
       "      <th>country_id</th>\n",
       "      <th>league_id</th>\n",
       "      <th>season</th>\n",
       "      <th>stage</th>\n",
       "      <th>date</th>\n",
       "      <th>match_api_id</th>\n",
       "      <th>home_team_api_id</th>\n",
       "      <th>away_team_api_id</th>\n",
       "      <th>home_team_goal</th>\n",
       "      <th>...</th>\n",
       "      <th>VCA</th>\n",
       "      <th>GBH</th>\n",
       "      <th>GBD</th>\n",
       "      <th>GBA</th>\n",
       "      <th>BSH</th>\n",
       "      <th>BSD</th>\n",
       "      <th>BSA</th>\n",
       "      <th>result</th>\n",
       "      <th>home_players_ids</th>\n",
       "      <th>away_players_ids</th>\n",
       "    </tr>\n",
       "  </thead>\n",
       "  <tbody>\n",
       "    <tr>\n",
       "      <th>0</th>\n",
       "      <td>1729</td>\n",
       "      <td>1729</td>\n",
       "      <td>1729</td>\n",
       "      <td>2008</td>\n",
       "      <td>1</td>\n",
       "      <td>2008-08-17</td>\n",
       "      <td>489042</td>\n",
       "      <td>10260</td>\n",
       "      <td>10261</td>\n",
       "      <td>1</td>\n",
       "      <td>...</td>\n",
       "      <td>12.0</td>\n",
       "      <td>1.3</td>\n",
       "      <td>4.75</td>\n",
       "      <td>10.0</td>\n",
       "      <td>1.29</td>\n",
       "      <td>4.5</td>\n",
       "      <td>11.0</td>\n",
       "      <td>Draw</td>\n",
       "      <td>[30726, 30362, 30620, 30865, 32569, 24148, 349...</td>\n",
       "      <td>[24224, 25518, 24228, 30929, 29581, 38807, 405...</td>\n",
       "    </tr>\n",
       "  </tbody>\n",
       "</table>\n",
       "<p>1 rows × 118 columns</p>\n",
       "</div>"
      ],
      "text/plain": [
       "     id  country_id  league_id season  stage       date  match_api_id  \\\n",
       "0  1729        1729       1729   2008      1 2008-08-17        489042   \n",
       "\n",
       "   home_team_api_id  away_team_api_id  home_team_goal  \\\n",
       "0             10260             10261               1   \n",
       "\n",
       "                         ...                           VCA  GBH   GBD   GBA  \\\n",
       "0                        ...                          12.0  1.3  4.75  10.0   \n",
       "\n",
       "    BSH  BSD   BSA  result                                   home_players_ids  \\\n",
       "0  1.29  4.5  11.0    Draw  [30726, 30362, 30620, 30865, 32569, 24148, 349...   \n",
       "\n",
       "                                    away_players_ids  \n",
       "0  [24224, 25518, 24228, 30929, 29581, 38807, 405...  \n",
       "\n",
       "[1 rows x 118 columns]"
      ]
     },
     "execution_count": 130,
     "metadata": {},
     "output_type": "execute_result"
    }
   ],
   "source": [
    "x"
   ]
  },
  {
   "cell_type": "code",
   "execution_count": null,
   "metadata": {},
   "outputs": [],
   "source": []
  }
 ],
 "metadata": {
  "kernelspec": {
   "display_name": "Python 3",
   "language": "python",
   "name": "python3"
  },
  "language_info": {
   "codemirror_mode": {
    "name": "ipython",
    "version": 3
   },
   "file_extension": ".py",
   "mimetype": "text/x-python",
   "name": "python",
   "nbconvert_exporter": "python",
   "pygments_lexer": "ipython3",
   "version": "3.7.1"
  }
 },
 "nbformat": 4,
 "nbformat_minor": 2
}
