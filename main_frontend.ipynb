{
 "cells": [
  {
   "cell_type": "code",
   "execution_count": 1,
   "metadata": {},
   "outputs": [],
   "source": [
    "import datetime\n",
    "import pandas as pd\n",
    "import numpy\n",
    "import pickle"
   ]
  },
  {
   "cell_type": "code",
   "execution_count": 2,
   "metadata": {},
   "outputs": [],
   "source": [
    "matches_epl = pd.read_csv('Matches_EPL.csv')\n",
    "players_df = pd.read_csv('data/player_attributes_transformed.csv')\n",
    "matches_processed = pd.read_csv('Matches_EPL_processed.csv')\n",
    "\n",
    "matches_epl = matches_epl.sort_values(by='date',ascending=False).reset_index(drop=False)\n",
    "\n",
    "matches_processed['date'] = pd.to_datetime(matches_processed['date'], format=\"%Y-%m-%d\")\n",
    "matches_epl['date'] = pd.to_datetime(matches_epl['date'], format=\"%Y-%m-%d\")\n",
    "\n",
    "model = pickle.load(open('model_LR_epl.sav','rb'))\n",
    "features = ['final_rating','home_last_five_score','away_last_five_score','home_opponent_score']\n"
   ]
  },
  {
   "cell_type": "code",
   "execution_count": 3,
   "metadata": {},
   "outputs": [],
   "source": [
    "def get_last_five_score(team,date):\n",
    "    streak_score=0\n",
    "    last_five = matches_epl[((matches_epl['home_team_api_id']==team) | (matches_epl['away_team_api_id']==team)) & (matches_epl['date']<date)].head(5)\n",
    "    #Last 5 not empty - i.e. no previous match data for this team id\n",
    "    if not last_five.empty:\n",
    "        #To determine whether the last match of team was at home or away to get the score difference \n",
    "        last_five['team_score'] = last_five.apply(lambda x: (x['home_team_goal']-x['away_team_goal'] if (x['home_team_api_id']==team) else x['away_team_goal']-x['home_team_goal'] ),axis=1)\n",
    "        streak_score = last_five.team_score.sum()\n",
    "\n",
    "        if type(streak_score)!= numpy.int64:\n",
    "            return streak_score.values[0]\n",
    "        else:\n",
    "            return streak_score\n",
    "    else:\n",
    "        return 0"
   ]
  },
  {
   "cell_type": "code",
   "execution_count": 4,
   "metadata": {},
   "outputs": [],
   "source": [
    "def get_last_five_opponent(team,date,opponent):\n",
    "    last_five = matches_epl[((matches_epl['home_team_api_id']==team) & (matches_epl['away_team_api_id']==opponent)) & (matches_epl['date']<date)].head(5)\n",
    "    if not last_five.empty:\n",
    "        streak_score = last_five.groupby('id').apply(lambda x: x['home_team_goal']-x['away_team_goal']).sum()\n",
    "        if type(streak_score)!= numpy.int64:\n",
    "            return streak_score.values[0]\n",
    "        else:\n",
    "            return streak_score\n",
    "    else:        \n",
    "        return 0"
   ]
  },
  {
   "cell_type": "code",
   "execution_count": null,
   "metadata": {},
   "outputs": [],
   "source": [
    "def get_result(result,home_id,away_id):\n",
    "    if result==2:\n",
    "        #Win\n",
    "        return teams[teams['team_api_id']==home_id]['team_long_name'].values+\" Wins Against \" + teams[teams['team_api_id']==away_id]['team_long_name'].values\n",
    "    elif result==1:\n",
    "        return \"Match Draw :\" + teams[teams['team_api_id']==home_id]['team_long_name'].values +\" vs \"+ teams[teams['team_api_id']==away_id]['team_long_name'].values\n",
    "    else:\n",
    "        return teams[teams['team_api_id']==away_id]['team_long_name'].values+\" Wins Against \" + teams[teams['team_api_id']==home_id]['team_long_name'].values"
   ]
  },
  {
   "cell_type": "code",
   "execution_count": null,
   "metadata": {},
   "outputs": [],
   "source": [
    "def create_features(home_team_api_id,away_team_api_id):\n",
    "    processed_df = pd.DataFrame(columns=['final_rating','home_last_five_score','away_last_five_score','home_opponent_score'])\n",
    "    date = datetime.datetime.today()\n",
    "    home_last_match = matches_processed[(matches_processed['home_team_api_id']==home_team_api_id)  & (matches_processed['date']<date)]['home_rating'].head(1)\n",
    "    away_last_match = matches_processed[(matches_processed['home_team_api_id']==away_team_api_id) & (matches_processed['date']<date)]['home_rating'].head(1)\n",
    "    \n",
    "    processed_df['final_rating'] = home_last_match.values - away_last_match.values\n",
    "    processed_df['home_last_five_score'] = get_last_five_score(home_team_api_id,date)\n",
    "    processed_df['away_last_five_score'] = get_last_five_score(away_team_api_id,date)\n",
    "    processed_df['home_opponent_score'] = get_last_five_opponent(home_team_api_id,date,away_team_api_id)\n",
    "\n",
    "    return processed_df"
   ]
  },
  {
   "cell_type": "code",
   "execution_count": null,
   "metadata": {},
   "outputs": [],
   "source": [
    "teams = pd.read_csv('Team.csv')\n"
   ]
  },
  {
   "cell_type": "code",
   "execution_count": null,
   "metadata": {},
   "outputs": [
    {
     "name": "stdout",
     "output_type": "stream",
     "text": [
      " * Serving Flask app \"__main__\" (lazy loading)\n",
      " * Environment: production\n",
      "   WARNING: Do not use the development server in a production environment.\n",
      "   Use a production WSGI server instead.\n",
      " * Debug mode: off\n"
     ]
    },
    {
     "name": "stderr",
     "output_type": "stream",
     "text": [
      " * Running on http://127.0.0.1:5000/ (Press CTRL+C to quit)\n",
      "127.0.0.1 - - [13/Apr/2019 21:09:28] \"GET / HTTP/1.1\" 200 -\n",
      "127.0.0.1 - - [13/Apr/2019 21:09:28] \"GET /vendor/fontawesome-free/css/all.min.css HTTP/1.1\" 404 -\n",
      "127.0.0.1 - - [13/Apr/2019 21:09:29] \"GET /favicon.ico HTTP/1.1\" 404 -\n",
      "127.0.0.1 - - [13/Apr/2019 21:12:13] \"POST /index.html HTTP/1.1\" 200 -\n",
      "127.0.0.1 - - [13/Apr/2019 21:12:13] \"GET /vendor/fontawesome-free/css/all.min.css HTTP/1.1\" 404 -\n",
      "127.0.0.1 - - [13/Apr/2019 21:14:32] \"GET /static/img/8197.png HTTP/1.1\" 304 -\n",
      "127.0.0.1 - - [13/Apr/2019 21:14:40] \"GET / HTTP/1.1\" 200 -\n",
      "127.0.0.1 - - [13/Apr/2019 21:14:40] \"GET /vendor/fontawesome-free/css/all.min.css HTTP/1.1\" 404 -\n"
     ]
    }
   ],
   "source": [
    "from flask import Flask, render_template, request\n",
    "app = Flask(__name__)\n",
    "\n",
    "\n",
    "@app.route('/')\n",
    "def hello():\n",
    "    return render_template('index.html')\n",
    "\n",
    "@app.route('/index.html', methods = ['GET','POST'])\n",
    "def testing():\n",
    "\n",
    "    home_team_api_id = int(request.form['home'])\n",
    "    away_team_api_id = int(request.form['away'])\n",
    "\n",
    "    df = create_features(home_team_api_id, away_team_api_id)\n",
    "\n",
    "    result = model.predict(df[features])\n",
    "#     get_result(result,home_team_api_id,away_team_api_id)\n",
    "        \n",
    "    return render_template('index.html',valuexx=get_result(result,home_team_api_id,away_team_api_id)[0], home_id=home_team_api_id, away_id = away_team_api_id)\n",
    "    \n",
    "    \n",
    "    \n",
    "@app.route('/images/<cropzonekey>')\n",
    "def images(cropzonekey):\n",
    "    return render_template(\"images.html\", title=cropzonekey)\n",
    "\n",
    "@app.route('/fig/<cropzonekey>')\n",
    "def fig(cropzonekey):\n",
    "    fig = draw_polygons(cropzonekey)\n",
    "    img = StringIO()\n",
    "    fig.savefig(img)\n",
    "    img.seek(0)\n",
    "    return send_file(img, mimetype='image/png')\n",
    "\n",
    "if __name__ == '__main__':\n",
    "    app.run()"
   ]
  },
  {
   "cell_type": "code",
   "execution_count": null,
   "metadata": {},
   "outputs": [],
   "source": []
  }
 ],
 "metadata": {
  "kernelspec": {
   "display_name": "Python 3",
   "language": "python",
   "name": "python3"
  },
  "language_info": {
   "codemirror_mode": {
    "name": "ipython",
    "version": 3
   },
   "file_extension": ".py",
   "mimetype": "text/x-python",
   "name": "python",
   "nbconvert_exporter": "python",
   "pygments_lexer": "ipython3",
   "version": "3.7.1"
  }
 },
 "nbformat": 4,
 "nbformat_minor": 2
}
